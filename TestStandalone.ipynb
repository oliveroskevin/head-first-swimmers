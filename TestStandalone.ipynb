{
 "cells": [
  {
   "cell_type": "code",
   "execution_count": 3,
   "id": "3e86d469",
   "metadata": {},
   "outputs": [],
   "source": [
    "import json"
   ]
  },
  {
   "cell_type": "code",
   "execution_count": 1,
   "id": "b54307ae",
   "metadata": {},
   "outputs": [],
   "source": [
    "def event_lookup(filename: str):\n",
    "    *_, distance, stroke = filename.removesuffix('.txt').split('-')\n",
    "    conversions = {\n",
    "        \"Free\": \"freestyle\",\n",
    "        \"Back\": \"backstroke\",\n",
    "        \"Breast\": \"breaststroke\",\n",
    "        \"Fly\": \"butterfly\",\n",
    "        \"IM\": \"individual medley\"\n",
    "    }\n",
    "    \n",
    "    return f'{distance} {conversions[stroke]}'"
   ]
  },
  {
   "cell_type": "code",
   "execution_count": 7,
   "id": "d54b77f2",
   "metadata": {},
   "outputs": [
    {
     "data": {
      "text/plain": [
       "'100m individual medley'"
      ]
     },
     "execution_count": 7,
     "metadata": {},
     "output_type": "execute_result"
    }
   ],
   "source": [
    "event_lookup('Darius-13-100m-IM.txt')"
   ]
  },
  {
   "cell_type": "code",
   "execution_count": 8,
   "id": "3fa1d229",
   "metadata": {},
   "outputs": [
    {
     "data": {
      "text/plain": [
       "'49.45'"
      ]
     },
     "execution_count": 8,
     "metadata": {},
     "output_type": "execute_result"
    }
   ],
   "source": [
    "with open(\"records.json\") as jf:\n",
    "    records = json.load(jf)\n",
    "\n",
    "records[\"LC MEN\"][event_lookup(\"Darius-13-100m-Fly.txt\")]"
   ]
  },
  {
   "cell_type": "code",
   "execution_count": 10,
   "id": "772c5224",
   "metadata": {},
   "outputs": [
    {
     "name": "stdout",
     "output_type": "stream",
     "text": [
      "49.45\n",
      "54.60\n",
      "47.71\n",
      "52.71\n"
     ]
    }
   ],
   "source": [
    "COURSES =  (\"LC MEN\", \"LC WOMEN\", \"SC MEN\", \"SC WOMEN\")\n",
    "\n",
    "for course in COURSES:\n",
    "    print(records[course][event_lookup('Darius-13-100m-Fly.txt')])"
   ]
  },
  {
   "cell_type": "code",
   "execution_count": null,
   "id": "5bddd82b",
   "metadata": {},
   "outputs": [],
   "source": []
  }
 ],
 "metadata": {
  "kernelspec": {
   "display_name": ".venv",
   "language": "python",
   "name": "python3"
  },
  "language_info": {
   "codemirror_mode": {
    "name": "ipython",
    "version": 3
   },
   "file_extension": ".py",
   "mimetype": "text/x-python",
   "name": "python",
   "nbconvert_exporter": "python",
   "pygments_lexer": "ipython3",
   "version": "3.13.4"
  }
 },
 "nbformat": 4,
 "nbformat_minor": 5
}
