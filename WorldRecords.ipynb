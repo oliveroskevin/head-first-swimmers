{
 "cells": [
  {
   "cell_type": "code",
   "execution_count": null,
   "id": "ce9ddf36",
   "metadata": {},
   "outputs": [],
   "source": [
    "%pip install gazpacho --upgrade"
   ]
  },
  {
   "cell_type": "code",
   "execution_count": null,
   "id": "9a7f6a41",
   "metadata": {},
   "outputs": [],
   "source": [
    "URL=\"https://en.wikipedia.org/wiki/List_of_world_records_in_swimming\""
   ]
  },
  {
   "cell_type": "code",
   "execution_count": 66,
   "id": "585b3ed7",
   "metadata": {},
   "outputs": [],
   "source": [
    "import gazpacho\n",
    "import json"
   ]
  },
  {
   "cell_type": "code",
   "execution_count": null,
   "id": "188ffa78",
   "metadata": {},
   "outputs": [],
   "source": [
    "html = gazpacho.get(URL)"
   ]
  },
  {
   "cell_type": "code",
   "execution_count": null,
   "id": "0933b6b9",
   "metadata": {},
   "outputs": [],
   "source": [
    "len(html)"
   ]
  },
  {
   "cell_type": "code",
   "execution_count": null,
   "id": "8d8023ed",
   "metadata": {},
   "outputs": [],
   "source": [
    "html[:500]"
   ]
  },
  {
   "cell_type": "code",
   "execution_count": null,
   "id": "8d7d76fa",
   "metadata": {},
   "outputs": [],
   "source": [
    "html[-500:]"
   ]
  },
  {
   "cell_type": "code",
   "execution_count": null,
   "id": "52e5f0bb",
   "metadata": {},
   "outputs": [],
   "source": [
    "value = html.find(\"<table\")\n",
    "html[value:value +500]"
   ]
  },
  {
   "cell_type": "code",
   "execution_count": null,
   "id": "b75fa319",
   "metadata": {},
   "outputs": [],
   "source": [
    "soup = gazpacho.Soup(html)"
   ]
  },
  {
   "cell_type": "code",
   "execution_count": null,
   "id": "ac6490bc",
   "metadata": {},
   "outputs": [],
   "source": [
    "type(soup)"
   ]
  },
  {
   "cell_type": "code",
   "execution_count": null,
   "id": "3ffecbd6",
   "metadata": {},
   "outputs": [],
   "source": [
    "print(dir(soup))"
   ]
  },
  {
   "cell_type": "code",
   "execution_count": null,
   "id": "9a94a7e5",
   "metadata": {},
   "outputs": [],
   "source": [
    "tables = soup.find(\"table\")"
   ]
  },
  {
   "cell_type": "code",
   "execution_count": null,
   "id": "7050e858",
   "metadata": {},
   "outputs": [],
   "source": [
    "type(tables)"
   ]
  },
  {
   "cell_type": "code",
   "execution_count": null,
   "id": "abc062ae",
   "metadata": {},
   "outputs": [],
   "source": [
    "len(tables)"
   ]
  },
  {
   "cell_type": "code",
   "execution_count": null,
   "id": "f0d61431",
   "metadata": {},
   "outputs": [],
   "source": [
    "type(tables[0])"
   ]
  },
  {
   "cell_type": "code",
   "execution_count": null,
   "id": "31f7eaa6",
   "metadata": {},
   "outputs": [],
   "source": [
    "rows = tables[0].find(\"tr\", mode=\"all\")"
   ]
  },
  {
   "cell_type": "code",
   "execution_count": null,
   "id": "6f442309",
   "metadata": {},
   "outputs": [],
   "source": [
    "type(rows)"
   ]
  },
  {
   "cell_type": "code",
   "execution_count": null,
   "id": "3cade078",
   "metadata": {},
   "outputs": [],
   "source": [
    "len(rows)"
   ]
  },
  {
   "cell_type": "code",
   "execution_count": null,
   "id": "961c4365",
   "metadata": {},
   "outputs": [],
   "source": [
    "rows[0]"
   ]
  },
  {
   "cell_type": "code",
   "execution_count": 68,
   "id": "8cd9f57d",
   "metadata": {},
   "outputs": [
    {
     "name": "stdout",
     "output_type": "stream",
     "text": [
      "table 1 has 21 rows\n",
      "table 2 has 21 rows\n",
      "table 3 has 3 rows\n",
      "table 4 has 25 rows\n",
      "table 5 has 26 rows\n",
      "table 6 has 4 rows\n",
      "table 7 has 26 rows\n",
      "table 8 has 1 rows\n",
      "table 9 has 7 rows\n",
      "table 10 has 5 rows\n",
      "table 11 has 8 rows\n"
     ]
    }
   ],
   "source": [
    "table_count = 0\n",
    "row_count = 0\n",
    "for table in tables:\n",
    "    table_count = table_count + 1\n",
    "    rows = tables[table_count - 1].find(\"tr\", mode=\"all\")\n",
    "    for row in rows:\n",
    "        row_count = row_count + 1\n",
    "    print(f'table {table_count} has {row_count} rows')\n",
    "    row_count = 0\n"
   ]
  },
  {
   "cell_type": "code",
   "execution_count": 69,
   "id": "e9f857cd",
   "metadata": {},
   "outputs": [
    {
     "name": "stdout",
     "output_type": "stream",
     "text": [
      "0 -> 21 rows, 9 columns\n",
      "1 -> 21 rows, 9 columns\n",
      "2 -> 3 rows, 9 columns\n",
      "3 -> 25 rows, 9 columns\n",
      "4 -> 26 rows, 9 columns\n",
      "5 -> 4 rows, 9 columns\n",
      "6 -> 26 rows, 11 columns\n",
      "7 -> 1 rows, 2 columns\n",
      "8 -> 7 rows, 1 columns\n",
      "9 -> 5 rows, 1 columns\n",
      "10 -> 8 rows, 1 columns\n"
     ]
    }
   ],
   "source": [
    "for n, table in enumerate(tables):\n",
    "    rows = table.find(\"tr\", mode=\"all\")\n",
    "    cols = rows[-1].find(\"td\", mode=\"all\")\n",
    "    print(f\"{n} -> {len(rows)} rows, {len(cols)} columns\")"
   ]
  },
  {
   "cell_type": "code",
   "execution_count": null,
   "id": "27ebe151",
   "metadata": {},
   "outputs": [],
   "source": [
    "print(dir(soup))"
   ]
  },
  {
   "cell_type": "code",
   "execution_count": 71,
   "id": "95c43cd5",
   "metadata": {},
   "outputs": [
    {
     "name": "stdout",
     "output_type": "stream",
     "text": [
      "<table class=\"wikitable sortable\" style=\"font-size: 95%;\">\n",
      "<caption>\n",
      "</caption>\n",
      "<tbody><tr>\n",
      "<th>Event\n",
      "</th>\n",
      "<th style=\"width:4em\" class=\"unsortable\">Time\n",
      "</th>\n",
      "<th class=\"unsortable\">\n",
      "</th>\n",
      "<th>Name</th>\n",
      "<th>Nationality</th>\n",
      "<th>Date</th>\n",
      "<th>Meet</th>\n",
      "<th>Location\n",
      "</th>\n",
      "<th class=\"unsortable\">Ref\n",
      "</th></tr>\n",
      "\n",
      "<tr>\n",
      "<td><span data-sort-value=\"01 !\"><a href=\"/wiki/World_record_progression_50_metres_freestyle\" title=\"World record progression 50 metres freestyle\">50m freestyle</a></span>\n",
      "</td>\n",
      "<td style=\"text-align:right; padding-left:0.5em; padding-right:0.5em;\">20.91\n",
      "</td>\n",
      "<td style=\"font-size:smaller\">ss</td>\n",
      "<td><span class=\"nowrap\"><span data-sort-value=\"Cielo, César\"><span class=\"vcard\"><span class=\"fn\"><a href=\"/wiki/C%C3%A9sar_Cielo\" title=\"César Cielo\">César Cielo</a></span></span></span></span>\n",
      "</td>\n",
      "<td><span class=\"flagicon\"><span class=\"mw-image-border\" typeof=\"mw:File\"><span><img alt=\"\" src=\"//upload.wikimedia.org/wikipedia/en/thumb/0/05/Flag_of_Brazil.svg/40px-Flag_of_Brazil.svg.png\" decoding=\"async\" width=\"22\" height=\"15\" class=\"mw-file-element\" srcset=\"//upload.wikimedia.org/wikipedia/en/thumb/0/05/Flag_of_Brazil.svg/60px-Flag_of_Brazil.svg.png 2x\" data-file-width=\"1000\" data-file-height=\"700\"></span></span> </span>Brazil\n",
      "</td>\n",
      "<td style=\"text-align:center\">18 December 2009</td>\n",
      "<td>Brazilian Championships\n",
      "</td>\n",
      "<td><span data-sort-value=\"Brazil, São Paulo !\"><a href=\"/wiki/S%C3%A3o_Paulo\" title=\"São Paulo\">São Paulo</a>, Brazil</span>\n",
      "</td>\n",
      "<td style=\"text-align:center\"><sup id=\"cite_ref-9\" class=\"reference\"><a href=\"#cite_note-9\"><span class=\"cite-bracket\">[</span>9<span class=\"cite-bracket\">]</span></a></sup><sup id=\"cite_ref-10\" class=\"reference\"><a href=\"#cite_note-10\"><span class=\"cite-bracket\">[</span>10<span class=\"cite-bracket\">]</span></a></sup><sup id=\"cite_ref-11\" class=\"reference\"><a href=\"#cite_note-11\"><span class=\"cite-bracket\">[</span>11<span class=\"cite-bracket\">]</span></a></sup><sup id=\"cite_ref-12\" class=\"reference\"><a href=\"#cite_note-12\"><span class=\"cite-bracket\">[</span>12<span class=\"cite-bracket\">]</span></a></sup>\n",
      "</td></tr>\n",
      "\n",
      "\n",
      "<tr>\n",
      "<td><span data-sort-value=\"02 !\"><a href=\"/wiki/World_record_progression_100_metres_freestyle\" title=\"World record progression 100 metres freestyle\">100m freestyle</a></span>\n",
      "</td>\n",
      "<td style=\"text-align:right; padding-left:0.5em; padding-right:0.5em;\">46.40\n",
      "</td>\n",
      "<td style=\"font-size:smaller\"></td>\n",
      "<td><span class=\"nowrap\"><a href=\"/wiki/Pan_Zhanle\" title=\"Pan Zhanle\">Pan Zhanle</a></span>\n",
      "</td>\n",
      "<td><span class=\"flagicon\"><span class=\"mw-image-border\" typeof=\"mw:File\"><span><img alt=\"\" src=\"//upload.wikimedia.org/wikipedia/commons/thumb/f/fa/Flag_of_the_People%27s_Republic_of_China.svg/40px-Flag_of_the_People%27s_Republic_of_China.svg.png\" decoding=\"async\" width=\"23\" height=\"15\" class=\"mw-file-element\" srcset=\"//upload.wikimedia.org/wikipedia/commons/thumb/f/fa/Flag_of_the_People%27s_Republic_of_China.svg/60px-Flag_of_the_People%27s_Republic_of_China.svg.png 2x\" data-file-width=\"900\" data-file-height=\"600\"></span></span> </span>China\n",
      "</td>\n",
      "<td style=\"text-align:center\">31 July 2024</td>\n",
      "<td><a href=\"/wiki/Swimming_at_the_2024_Summer_Olympics_%E2%80%93_Men%27s_100_metre_freestyle\" class=\"mw-redirect\" title=\"Swimming at the 2024 Summer Olympics – Men's 100 metre freestyle\">Olympic Games</a>\n",
      "</td>\n",
      "<td><span data-sort-value=\"France, Paris !\"><a href=\"/wiki/Paris\" title=\"Paris\">Paris</a>, France</span>\n",
      "</td>\n",
      "<td style=\"text-align:center\"><sup id=\"cite_ref-13\" class=\"reference\"><a href=\"#cite_note-13\"><span class=\"cite-bracket\">[</span>13<span class=\"cite-bracket\">]</span></a></sup>\n",
      "</td></tr>\n",
      "\n",
      "\n",
      "<tr>\n",
      "<td><span data-sort-value=\"03 !\"><a href=\"/wiki/World_record_progression_200_metres_freestyle\" title=\"World record progression 200 metres freestyle\">200m freestyle</a></span>\n",
      "</td>\n",
      "<td style=\"text-align:right; padding-left:0.5em; padding-right:0.5em;\">1:42.00\n",
      "</td>\n",
      "<td style=\"font-size:smaller\">ss</td>\n",
      "<td><span class=\"nowrap\"><span data-sort-value=\"Biedermann, Paul\"><span class=\"vcard\"><span class=\"fn\"><a href=\"/wiki/Paul_Biedermann\" title=\"Paul Biedermann\">Paul Biedermann</a></span></span></span></span>\n",
      "</td>\n",
      "<td><span class=\"flagicon\"><span class=\"mw-image-border\" typeof=\"mw:File\"><span><img alt=\"\" src=\"//upload.wikimedia.org/wikipedia/en/thumb/b/ba/Flag_of_Germany.svg/40px-Flag_of_Germany.svg.png\" decoding=\"async\" width=\"23\" height=\"14\" class=\"mw-file-element\" srcset=\"//upload.wikimedia.org/wikipedia/en/thumb/b/ba/Flag_of_Germany.svg/60px-Flag_of_Germany.svg.png 2x\" data-file-width=\"1000\" data-file-height=\"600\"></span></span> </span>Germany\n",
      "</td>\n",
      "<td style=\"text-align:center\">28 July 2009</td>\n",
      "<td><a href=\"/wiki/Swimming_at_the_2009_World_Aquatics_Championships_%E2%80%93_Men%27s_200_metre_freestyle\" title=\"Swimming at the 2009 World Aquatics Championships – Men's 200 metre freestyle\">World Championships</a>\n",
      "</td>\n",
      "<td><span data-sort-value=\"Italy, Rome !\"><a href=\"/wiki/Rome\" title=\"Rome\">Rome</a>, Italy</span>\n",
      "</td>\n",
      "<td style=\"text-align:center\"><sup id=\"cite_ref-14\" class=\"reference\"><a href=\"#cite_note-14\"><span class=\"cite-bracket\">[</span>14<span class=\"cite-bracket\">]</span></a></sup><sup id=\"cite_ref-15\" class=\"reference\"><a href=\"#cite_note-15\"><span class=\"cite-bracket\">[</span>15<span class=\"cite-bracket\">]</span></a></sup><sup id=\"cite_ref-16\" class=\"reference\"><a href=\"#cite_note-16\"><span class=\"cite-bracket\">[</span>16<span class=\"cite-bracket\">]</span></a></sup>\n",
      "</td></tr>\n",
      "\n",
      "\n",
      "<tr>\n",
      "<td><span data-sort-value=\"04 !\"><a href=\"/wiki/World_record_progression_400_metres_freestyle\" title=\"World record progression 400 metres freestyle\">400m freestyle</a></span>\n",
      "</td>\n",
      "<td style=\"text-align:right; padding-left:0.5em; padding-right:0.5em;\">3:39.96\n",
      "</td>\n",
      "<td style=\"font-size:smaller\"></td>\n",
      "<td><span class=\"nowrap\"><span data-sort-value=\"Märtens, Lukas\"><span class=\"vcard\"><span class=\"fn\"><a href=\"/wiki/Lukas_M%C3%A4rtens\" title=\"Lukas Märtens\">Lukas Märtens</a></span></span></span></span>\n",
      "</td>\n",
      "<td><span class=\"flagicon\"><span class=\"mw-image-border\" typeof=\"mw:File\"><span><img alt=\"\" src=\"//upload.wikimedia.org/wikipedia/en/thumb/b/ba/Flag_of_Germany.svg/40px-Flag_of_Germany.svg.png\" decoding=\"async\" width=\"23\" height=\"14\" class=\"mw-file-element\" srcset=\"//upload.wikimedia.org/wikipedia/en/thumb/b/ba/Flag_of_Germany.svg/60px-Flag_of_Germany.svg.png 2x\" data-file-width=\"1000\" data-file-height=\"600\"></span></span> </span>Germany\n",
      "</td>\n",
      "<td style=\"text-align:center\">12 April 2025</td>\n",
      "<td>Swim Open Stockholm\n",
      "</td>\n",
      "<td><span data-sort-value=\"Sweden, Stockholm !\"><a href=\"/wiki/Stockholm\" title=\"Stockholm\">Stockholm</a>, Sweden</span>\n",
      "</td>\n",
      "<td style=\"text-align:center\"><sup id=\"cite_ref-17\" class=\"reference\"><a href=\"#cite_note-17\"><span class=\"cite-bracket\">[</span>17<span class=\"cite-bracket\">]</span></a></sup>\n",
      "</td></tr>\n",
      "\n",
      "\n",
      "<tr>\n",
      "<td><span data-sort-value=\"05 !\"><a href=\"/wiki/World_record_progression_800_metres_freestyle\" title=\"World record progression 800 metres freestyle\">800m freestyle</a></span>\n",
      "</td>\n",
      "<td style=\"text-align:right; padding-left:0.5em; padding-right:0.5em;\">7:32.12\n",
      "</td>\n",
      "<td style=\"font-size:smaller\">ss</td>\n",
      "<td><span class=\"nowrap\"><a href=\"/wiki/Zhang_Lin_(swimmer)\" title=\"Zhang Lin (swimmer)\">Zhang Lin</a></span>\n",
      "</td>\n",
      "<td><span class=\"flagicon\"><span class=\"mw-image-border\" typeof=\"mw:File\"><span><img alt=\"\" src=\"//upload.wikimedia.org/wikipedia/commons/thumb/f/fa/Flag_of_the_People%27s_Republic_of_China.svg/40px-Flag_of_the_People%27s_Republic_of_China.svg.png\" decoding=\"async\" width=\"23\" height=\"15\" class=\"mw-file-element\" srcset=\"//upload.wikimedia.org/wikipedia/commons/thumb/f/fa/Flag_of_the_People%27s_Republic_of_China.svg/60px-Flag_of_the_People%27s_Republic_of_China.svg.png 2x\" data-file-width=\"900\" data-file-height=\"600\"></span></span> </span>China\n",
      "</td>\n",
      "<td style=\"text-align:center\">29 July 2009</td>\n",
      "<td><a href=\"/wiki/Swimming_at_the_2009_World_Aquatics_Championships_%E2%80%93_Men%27s_800_metre_freestyle\" title=\"Swimming at the 2009 World Aquatics Championships – Men's 800 metre freestyle\">World Championships</a>\n",
      "</td>\n",
      "<td><span data-sort-value=\"Italy, Rome !\"><a href=\"/wiki/Rome\" title=\"Rome\">Rome</a>, Italy</span>\n",
      "</td>\n",
      "<td style=\"text-align:center\"><sup id=\"cite_ref-18\" class=\"reference\"><a href=\"#cite_note-18\"><span class=\"cite-bracket\">[</span>18<span class=\"cite-bracket\">]</span></a></sup><sup id=\"cite_ref-19\" class=\"reference\"><a href=\"#cite_note-19\"><span class=\"cite-bracket\">[</span>19<span class=\"cite-bracket\">]</span></a></sup>\n",
      "</td></tr>\n",
      "\n",
      "\n",
      "<tr>\n",
      "<td><span data-sort-value=\"06 !\"><a href=\"/wiki/World_record_progression_1500_metres_freestyle\" title=\"World record progression 1500 metres freestyle\">1500m freestyle</a></span>\n",
      "</td>\n",
      "<td style=\"text-align:right; padding-left:0.5em; padding-right:0.5em;\">14:30.67\n",
      "</td>\n",
      "<td style=\"font-size:smaller\"></td>\n",
      "<td><span class=\"nowrap\"><span data-sort-value=\"Finke, Bobby\"><span class=\"vcard\"><span class=\"fn\"><a href=\"/wiki/Bobby_Finke\" title=\"Bobby Finke\">Bobby Finke</a></span></span></span></span>\n",
      "</td>\n",
      "<td><span class=\"flagicon\"><span class=\"mw-image-border\" typeof=\"mw:File\"><span><img alt=\"\" src=\"//upload.wikimedia.org/wikipedia/en/thumb/a/a4/Flag_of_the_United_States.svg/40px-Flag_of_the_United_States.svg.png\" decoding=\"async\" width=\"23\" height=\"12\" class=\"mw-file-element\" srcset=\"//upload.wikimedia.org/wikipedia/en/thumb/a/a4/Flag_of_the_United_States.svg/60px-Flag_of_the_United_States.svg.png 2x\" data-file-width=\"1235\" data-file-height=\"650\"></span></span> </span>United States\n",
      "</td>\n",
      "<td style=\"text-align:center\">4 August 2024</td>\n",
      "<td><a href=\"/wiki/Swimming_at_the_2024_Summer_Olympics_%E2%80%93_Men%27s_1500_metre_freestyle\" class=\"mw-redirect\" title=\"Swimming at the 2024 Summer Olympics – Men's 1500 metre freestyle\">Olympic Games</a>\n",
      "</td>\n",
      "<td><span data-sort-value=\"France, Paris !\"><a href=\"/wiki/Paris\" title=\"Paris\">Paris</a>, France</span>\n",
      "</td>\n",
      "<td style=\"text-align:center\"><sup id=\"cite_ref-20\" class=\"reference\"><a href=\"#cite_note-20\"><span class=\"cite-bracket\">[</span>20<span class=\"cite-bracket\">]</span></a></sup><sup id=\"cite_ref-21\" class=\"reference\"><a href=\"#cite_note-21\"><span class=\"cite-bracket\">[</span>21<span class=\"cite-bracket\">]</span></a></sup>\n",
      "</td></tr>\n",
      "\n",
      "\n",
      "<tr>\n",
      "<td><span data-sort-value=\"07 !\"><a href=\"/wiki/World_record_progression_50_metres_backstroke\" title=\"World record progression 50 metres backstroke\">50m backstroke</a></span>\n",
      "</td>\n",
      "<td style=\"text-align:right; padding-left:0.5em; padding-right:0.5em;\">23.55\n",
      "</td>\n",
      "<td style=\"font-size:smaller\">sf</td>\n",
      "<td><span class=\"nowrap\"><span data-sort-value=\"Kolesnikov, Kliment\"><span class=\"vcard\"><span class=\"fn\"><a href=\"/wiki/Kliment_Kolesnikov\" title=\"Kliment Kolesnikov\">Kliment Kolesnikov</a></span></span></span></span>\n",
      "</td>\n",
      "<td><span class=\"flagicon\"><span class=\"mw-image-border\" typeof=\"mw:File\"><span><img alt=\"\" src=\"//upload.wikimedia.org/wikipedia/en/thumb/f/f3/Flag_of_Russia.svg/40px-Flag_of_Russia.svg.png\" decoding=\"async\" width=\"23\" height=\"15\" class=\"mw-file-element\" srcset=\"//upload.wikimedia.org/wikipedia/en/thumb/f/f3/Flag_of_Russia.svg/60px-Flag_of_Russia.svg.png 2x\" data-file-width=\"900\" data-file-height=\"600\"></span></span> </span>Russia\n",
      "</td>\n",
      "<td style=\"text-align:center\">27 July 2023</td>\n",
      "<td>Russian Cup\n",
      "</td>\n",
      "<td><span data-sort-value=\"Russia, Kazan !\"><a href=\"/wiki/Kazan\" title=\"Kazan\">Kazan</a>, Russia</span>\n",
      "</td>\n",
      "<td style=\"text-align:center\"><sup id=\"cite_ref-22\" class=\"reference\"><a href=\"#cite_note-22\"><span class=\"cite-bracket\">[</span>22<span class=\"cite-bracket\">]</span></a></sup>\n",
      "</td></tr>\n",
      "\n",
      "\n",
      "<tr>\n",
      "<td><span data-sort-value=\"08'\"`UNIQ--ref-00000019-QINU`\"' !\"><a href=\"/wiki/World_record_progression_100_metres_backstroke\" title=\"World record progression 100 metres backstroke\">100m backstroke</a></span>\n",
      "</td>\n",
      "<td style=\"text-align:right; padding-left:0.5em; padding-right:0.5em;\">51.60\n",
      "</td>\n",
      "<td style=\"font-size:smaller\"></td>\n",
      "<td><span class=\"nowrap\"><span data-sort-value=\"Ceccon, Thomas\"><span class=\"vcard\"><span class=\"fn\"><a href=\"/wiki/Thomas_Ceccon\" title=\"Thomas Ceccon\">Thomas Ceccon</a></span></span></span></span>\n",
      "</td>\n",
      "<td><span class=\"flagicon\"><span class=\"mw-image-border\" typeof=\"mw:File\"><span><img alt=\"\" src=\"//upload.wikimedia.org/wikipedia/en/thumb/0/03/Flag_of_Italy.svg/40px-Flag_of_Italy.svg.png\" decoding=\"async\" width=\"23\" height=\"15\" class=\"mw-file-element\" srcset=\"//upload.wikimedia.org/wikipedia/en/thumb/0/03/Flag_of_Italy.svg/60px-Flag_of_Italy.svg.png 2x\" data-file-width=\"1500\" data-file-height=\"1000\"></span></span> </span>Italy\n",
      "</td>\n",
      "<td style=\"text-align:center\">20 June 2022</td>\n",
      "<td><a href=\"/wiki/Swimming_at_the_2022_World_Aquatics_Championships_%E2%80%93_Men%27s_100_metre_backstroke\" title=\"Swimming at the 2022 World Aquatics Championships – Men's 100 metre backstroke\">World Championships</a>\n",
      "</td>\n",
      "<td><span data-sort-value=\"Hungary, Budapest !\"><a href=\"/wiki/Budapest\" title=\"Budapest\">Budapest</a>, Hungary</span>\n",
      "</td>\n",
      "<td style=\"text-align:center\"><sup id=\"cite_ref-24\" class=\"reference\"><a href=\"#cite_note-24\"><span class=\"cite-bracket\">[</span>24<span class=\"cite-bracket\">]</span></a></sup><sup id=\"cite_ref-25\" class=\"reference\"><a href=\"#cite_note-25\"><span class=\"cite-bracket\">[</span>25<span class=\"cite-bracket\">]</span></a></sup>\n",
      "</td></tr>\n",
      "\n",
      "\n",
      "<tr>\n",
      "<td><span data-sort-value=\"09 !\"><a href=\"/wiki/World_record_progression_200_metres_backstroke\" title=\"World record progression 200 metres backstroke\">200m backstroke</a></span>\n",
      "</td>\n",
      "<td style=\"text-align:right; padding-left:0.5em; padding-right:0.5em;\">1:51.92\n",
      "</td>\n",
      "<td style=\"font-size:smaller\">ss</td>\n",
      "<td><span class=\"nowrap\"><span data-sort-value=\"Peirsol, Aaron\"><span class=\"vcard\"><span class=\"fn\"><a href=\"/wiki/Aaron_Peirsol\" title=\"Aaron Peirsol\">Aaron Peirsol</a></span></span></span></span>\n",
      "</td>\n",
      "<td><span class=\"flagicon\"><span class=\"mw-image-border\" typeof=\"mw:File\"><span><img alt=\"\" src=\"//upload.wikimedia.org/wikipedia/en/thumb/a/a4/Flag_of_the_United_States.svg/40px-Flag_of_the_United_States.svg.png\" decoding=\"async\" width=\"23\" height=\"12\" class=\"mw-file-element\" srcset=\"//upload.wikimedia.org/wikipedia/en/thumb/a/a4/Flag_of_the_United_States.svg/60px-Flag_of_the_United_States.svg.png 2x\" data-file-width=\"1235\" data-file-height=\"650\"></span></span> </span>United States\n",
      "</td>\n",
      "<td style=\"text-align:center\">31 July 2009</td>\n",
      "<td><a href=\"/wiki/Swimming_at_the_2009_World_Aquatics_Championships_%E2%80%93_Men%27s_200_metre_backstroke\" title=\"Swimming at the 2009 World Aquatics Championships – Men's 200 metre backstroke\">World Championships</a>\n",
      "</td>\n",
      "<td><span data-sort-value=\"Italy, Rome !\"><a href=\"/wiki/Rome\" title=\"Rome\">Rome</a>, Italy</span>\n",
      "</td>\n",
      "<td style=\"text-align:center\"><sup id=\"cite_ref-26\" class=\"reference\"><a href=\"#cite_note-26\"><span class=\"cite-bracket\">[</span>26<span class=\"cite-bracket\">]</span></a></sup><sup id=\"cite_ref-27\" class=\"reference\"><a href=\"#cite_note-27\"><span class=\"cite-bracket\">[</span>27<span class=\"cite-bracket\">]</span></a></sup><sup id=\"cite_ref-28\" class=\"reference\"><a href=\"#cite_note-28\"><span class=\"cite-bracket\">[</span>28<span class=\"cite-bracket\">]</span></a></sup>\n",
      "</td></tr>\n",
      "\n",
      "\n",
      "<tr>\n",
      "<td><span data-sort-value=\"10 !\"><a href=\"/wiki/World_record_progression_50_metres_breaststroke\" title=\"World record progression 50 metres breaststroke\">50m breaststroke</a></span>\n",
      "</td>\n",
      "<td style=\"text-align:right; padding-left:0.5em; padding-right:0.5em;\">25.95\n",
      "</td>\n",
      "<td style=\"font-size:smaller\">sf</td>\n",
      "<td><span class=\"nowrap\"><span data-sort-value=\"Peaty, Adam\"><span class=\"vcard\"><span class=\"fn\"><a href=\"/wiki/Adam_Peaty\" title=\"Adam Peaty\">Adam Peaty</a></span></span></span></span>\n",
      "</td>\n",
      "<td><span class=\"flagicon\"><span class=\"mw-image-border\" typeof=\"mw:File\"><span><img alt=\"\" src=\"//upload.wikimedia.org/wikipedia/en/thumb/a/ae/Flag_of_the_United_Kingdom.svg/40px-Flag_of_the_United_Kingdom.svg.png\" decoding=\"async\" width=\"23\" height=\"12\" class=\"mw-file-element\" srcset=\"//upload.wikimedia.org/wikipedia/en/thumb/a/ae/Flag_of_the_United_Kingdom.svg/60px-Flag_of_the_United_Kingdom.svg.png 2x\" data-file-width=\"1200\" data-file-height=\"600\"></span></span> </span>Great Britain\n",
      "</td>\n",
      "<td style=\"text-align:center\">25 July 2017</td>\n",
      "<td><a href=\"/wiki/Swimming_at_the_2017_World_Aquatics_Championships_%E2%80%93_Men%27s_50_metre_breaststroke\" title=\"Swimming at the 2017 World Aquatics Championships – Men's 50 metre breaststroke\">World Championships</a>\n",
      "</td>\n",
      "<td><span data-sort-value=\"Hungary, Budapest !\"><a href=\"/wiki/Budapest\" title=\"Budapest\">Budapest</a>, Hungary</span>\n",
      "</td>\n",
      "<td style=\"text-align:center\"><sup id=\"cite_ref-29\" class=\"reference\"><a href=\"#cite_note-29\"><span class=\"cite-bracket\">[</span>29<span class=\"cite-bracket\">]</span></a></sup><sup id=\"cite_ref-30\" class=\"reference\"><a href=\"#cite_note-30\"><span class=\"cite-bracket\">[</span>30<span class=\"cite-bracket\">]</span></a></sup>\n",
      "</td></tr>\n",
      "\n",
      "\n",
      "<tr>\n",
      "<td><span data-sort-value=\"11 !\"><a href=\"/wiki/World_record_progression_100_metres_breaststroke\" title=\"World record progression 100 metres breaststroke\">100m breaststroke</a></span>\n",
      "</td>\n",
      "<td style=\"text-align:right; padding-left:0.5em; padding-right:0.5em;\">56.88\n",
      "</td>\n",
      "<td style=\"font-size:smaller\">sf</td>\n",
      "<td><span class=\"nowrap\"><span data-sort-value=\"Peaty, Adam\"><span class=\"vcard\"><span class=\"fn\"><a href=\"/wiki/Adam_Peaty\" title=\"Adam Peaty\">Adam Peaty</a></span></span></span></span>\n",
      "</td>\n",
      "<td><span class=\"flagicon\"><span class=\"mw-image-border\" typeof=\"mw:File\"><span><img alt=\"\" src=\"//upload.wikimedia.org/wikipedia/en/thumb/a/ae/Flag_of_the_United_Kingdom.svg/40px-Flag_of_the_United_Kingdom.svg.png\" decoding=\"async\" width=\"23\" height=\"12\" class=\"mw-file-element\" srcset=\"//upload.wikimedia.org/wikipedia/en/thumb/a/ae/Flag_of_the_United_Kingdom.svg/60px-Flag_of_the_United_Kingdom.svg.png 2x\" data-file-width=\"1200\" data-file-height=\"600\"></span></span> </span>Great Britain\n",
      "</td>\n",
      "<td style=\"text-align:center\">21 July 2019</td>\n",
      "<td><a href=\"/wiki/Swimming_at_the_2019_World_Aquatics_Championships_%E2%80%93_Men%27s_100_metre_breaststroke\" title=\"Swimming at the 2019 World Aquatics Championships – Men's 100 metre breaststroke\">World Championships</a>\n",
      "</td>\n",
      "<td><span data-sort-value=\"South Korea, Gwangju !\"><a href=\"/wiki/Gwangju\" title=\"Gwangju\">Gwangju</a>, South Korea</span>\n",
      "</td>\n",
      "<td style=\"text-align:center\"><sup id=\"cite_ref-31\" class=\"reference\"><a href=\"#cite_note-31\"><span class=\"cite-bracket\">[</span>31<span class=\"cite-bracket\">]</span></a></sup><sup id=\"cite_ref-32\" class=\"reference\"><a href=\"#cite_note-32\"><span class=\"cite-bracket\">[</span>32<span class=\"cite-bracket\">]</span></a></sup>\n",
      "</td></tr>\n",
      "\n",
      "\n",
      "<tr>\n",
      "<td><span data-sort-value=\"12 !\"><a href=\"/wiki/World_record_progression_200_metres_breaststroke\" title=\"World record progression 200 metres breaststroke\">200m breaststroke</a></span>\n",
      "</td>\n",
      "<td style=\"text-align:right; padding-left:0.5em; padding-right:0.5em;\">2:05.48\n",
      "</td>\n",
      "<td style=\"font-size:smaller\"></td>\n",
      "<td><span class=\"nowrap\"><a href=\"/wiki/Qin_Haiyang\" title=\"Qin Haiyang\">Qin Haiyang</a></span>\n",
      "</td>\n",
      "<td><span class=\"flagicon\"><span class=\"mw-image-border\" typeof=\"mw:File\"><span><img alt=\"\" src=\"//upload.wikimedia.org/wikipedia/commons/thumb/f/fa/Flag_of_the_People%27s_Republic_of_China.svg/40px-Flag_of_the_People%27s_Republic_of_China.svg.png\" decoding=\"async\" width=\"23\" height=\"15\" class=\"mw-file-element\" srcset=\"//upload.wikimedia.org/wikipedia/commons/thumb/f/fa/Flag_of_the_People%27s_Republic_of_China.svg/60px-Flag_of_the_People%27s_Republic_of_China.svg.png 2x\" data-file-width=\"900\" data-file-height=\"600\"></span></span> </span>China\n",
      "</td>\n",
      "<td style=\"text-align:center\">28 July 2023</td>\n",
      "<td><a href=\"/wiki/Swimming_at_the_2023_World_Aquatics_Championships_%E2%80%93_Men%27s_200_metre_breaststroke\" title=\"Swimming at the 2023 World Aquatics Championships – Men's 200 metre breaststroke\">World Championships</a>\n",
      "</td>\n",
      "<td><span data-sort-value=\"Japan, Fukuoka !\"><a href=\"/wiki/Fukuoka\" title=\"Fukuoka\">Fukuoka</a>, Japan</span>\n",
      "</td>\n",
      "<td style=\"text-align:center\"><sup id=\"cite_ref-33\" class=\"reference\"><a href=\"#cite_note-33\"><span class=\"cite-bracket\">[</span>33<span class=\"cite-bracket\">]</span></a></sup><sup id=\"cite_ref-34\" class=\"reference\"><a href=\"#cite_note-34\"><span class=\"cite-bracket\">[</span>34<span class=\"cite-bracket\">]</span></a></sup>\n",
      "</td></tr>\n",
      " \n",
      "\n",
      "<tr>\n",
      "<td><span data-sort-value=\"13 !\"><a href=\"/wiki/World_record_progression_50_metres_butterfly\" title=\"World record progression 50 metres butterfly\">50m butterfly</a></span>\n",
      "</td>\n",
      "<td style=\"text-align:right; padding-left:0.5em; padding-right:0.5em;\">22.27\n",
      "</td>\n",
      "<td style=\"font-size:smaller\"></td>\n",
      "<td><span class=\"nowrap\"><span data-sort-value=\"Govorov, Andriy\"><span class=\"vcard\"><span class=\"fn\"><a href=\"/wiki/Andriy_Govorov\" title=\"Andriy Govorov\">Andriy Govorov</a></span></span></span></span>\n",
      "</td>\n",
      "<td><span class=\"flagicon\"><span class=\"mw-image-border\" typeof=\"mw:File\"><span><img alt=\"\" src=\"//upload.wikimedia.org/wikipedia/commons/thumb/4/49/Flag_of_Ukraine.svg/40px-Flag_of_Ukraine.svg.png\" decoding=\"async\" width=\"23\" height=\"15\" class=\"mw-file-element\" srcset=\"//upload.wikimedia.org/wikipedia/commons/thumb/4/49/Flag_of_Ukraine.svg/60px-Flag_of_Ukraine.svg.png 2x\" data-file-width=\"1200\" data-file-height=\"800\"></span></span> </span>Ukraine\n",
      "</td>\n",
      "<td style=\"text-align:center\">1 July 2018</td>\n",
      "<td>Sette Colli Trophy\n",
      "</td>\n",
      "<td><span data-sort-value=\"Italy, Rome !\"><a href=\"/wiki/Rome\" title=\"Rome\">Rome</a>, Italy</span>\n",
      "</td>\n",
      "<td style=\"text-align:center\"><sup id=\"cite_ref-35\" class=\"reference\"><a href=\"#cite_note-35\"><span class=\"cite-bracket\">[</span>35<span class=\"cite-bracket\">]</span></a></sup><sup id=\"cite_ref-36\" class=\"reference\"><a href=\"#cite_note-36\"><span class=\"cite-bracket\">[</span>36<span class=\"cite-bracket\">]</span></a></sup>\n",
      "</td></tr>\n",
      "\n",
      "\n",
      "<tr>\n",
      "<td><span data-sort-value=\"14 !\"><a href=\"/wiki/World_record_progression_100_metres_butterfly\" title=\"World record progression 100 metres butterfly\">100m butterfly</a></span>\n",
      "</td>\n",
      "<td style=\"text-align:right; padding-left:0.5em; padding-right:0.5em;\">49.45\n",
      "</td>\n",
      "<td style=\"font-size:smaller\"></td>\n",
      "<td><span class=\"nowrap\"><span data-sort-value=\"Dressel, Caeleb\"><span class=\"vcard\"><span class=\"fn\"><a href=\"/wiki/Caeleb_Dressel\" title=\"Caeleb Dressel\">Caeleb Dressel</a></span></span></span></span>\n",
      "</td>\n",
      "<td><span class=\"flagicon\"><span class=\"mw-image-border\" typeof=\"mw:File\"><span><img alt=\"\" src=\"//upload.wikimedia.org/wikipedia/en/thumb/a/a4/Flag_of_the_United_States.svg/40px-Flag_of_the_United_States.svg.png\" decoding=\"async\" width=\"23\" height=\"12\" class=\"mw-file-element\" srcset=\"//upload.wikimedia.org/wikipedia/en/thumb/a/a4/Flag_of_the_United_States.svg/60px-Flag_of_the_United_States.svg.png 2x\" data-file-width=\"1235\" data-file-height=\"650\"></span></span> </span>United States\n",
      "</td>\n",
      "<td style=\"text-align:center\">31 July 2021</td>\n",
      "<td><a href=\"/wiki/Swimming_at_the_2020_Summer_Olympics_%E2%80%93_Men%27s_100_metre_butterfly\" title=\"Swimming at the 2020 Summer Olympics – Men's 100 metre butterfly\">Olympic Games</a>\n",
      "</td>\n",
      "<td><span data-sort-value=\"Japan, Tokyo !\"><a href=\"/wiki/Tokyo\" title=\"Tokyo\">Tokyo</a>, Japan</span>\n",
      "</td>\n",
      "<td style=\"text-align:center\"><sup id=\"cite_ref-37\" class=\"reference\"><a href=\"#cite_note-37\"><span class=\"cite-bracket\">[</span>37<span class=\"cite-bracket\">]</span></a></sup><sup id=\"cite_ref-38\" class=\"reference\"><a href=\"#cite_note-38\"><span class=\"cite-bracket\">[</span>38<span class=\"cite-bracket\">]</span></a></sup>\n",
      "</td></tr>\n",
      "\n",
      "\n",
      "<tr>\n",
      "<td><span data-sort-value=\"15 !\"><a href=\"/wiki/World_record_progression_200_metres_butterfly\" title=\"World record progression 200 metres butterfly\">200m butterfly</a></span>\n",
      "</td>\n",
      "<td style=\"text-align:right; padding-left:0.5em; padding-right:0.5em;\">1:50.34\n",
      "</td>\n",
      "<td style=\"font-size:smaller\"></td>\n",
      "<td><span class=\"nowrap\"><span data-sort-value=\"Milák, Kristóf\"><span class=\"vcard\"><span class=\"fn\"><a href=\"/wiki/Krist%C3%B3f_Mil%C3%A1k\" title=\"Kristóf Milák\">Kristóf Milák</a></span></span></span></span>\n",
      "</td>\n",
      "<td><span class=\"flagicon\"><span class=\"mw-image-border\" typeof=\"mw:File\"><span><img alt=\"\" src=\"//upload.wikimedia.org/wikipedia/commons/thumb/c/c1/Flag_of_Hungary.svg/40px-Flag_of_Hungary.svg.png\" decoding=\"async\" width=\"23\" height=\"12\" class=\"mw-file-element\" srcset=\"//upload.wikimedia.org/wikipedia/commons/thumb/c/c1/Flag_of_Hungary.svg/60px-Flag_of_Hungary.svg.png 2x\" data-file-width=\"1200\" data-file-height=\"600\"></span></span> </span>Hungary\n",
      "</td>\n",
      "<td style=\"text-align:center\">21 June 2022</td>\n",
      "<td><a href=\"/wiki/Swimming_at_the_2022_World_Aquatics_Championships_%E2%80%93_Men%27s_200_metre_butterfly\" title=\"Swimming at the 2022 World Aquatics Championships – Men's 200 metre butterfly\">World Championships</a>\n",
      "</td>\n",
      "<td><span data-sort-value=\"Hungary, Budapest !\"><a href=\"/wiki/Budapest\" title=\"Budapest\">Budapest</a>, Hungary</span>\n",
      "</td>\n",
      "<td style=\"text-align:center\"><sup id=\"cite_ref-39\" class=\"reference\"><a href=\"#cite_note-39\"><span class=\"cite-bracket\">[</span>39<span class=\"cite-bracket\">]</span></a></sup><sup id=\"cite_ref-40\" class=\"reference\"><a href=\"#cite_note-40\"><span class=\"cite-bracket\">[</span>40<span class=\"cite-bracket\">]</span></a></sup>\n",
      "</td></tr>\n",
      "\n",
      "\n",
      "<tr>\n",
      "<td><span data-sort-value=\"16 !\"><a href=\"/wiki/World_record_progression_200_metres_individual_medley\" title=\"World record progression 200 metres individual medley\">200m individual medley</a></span>\n",
      "</td>\n",
      "<td style=\"text-align:right; padding-left:0.5em; padding-right:0.5em;\">1:54.00\n",
      "</td>\n",
      "<td style=\"font-size:smaller\"></td>\n",
      "<td><span class=\"nowrap\"><span data-sort-value=\"Lochte, Ryan\"><span class=\"vcard\"><span class=\"fn\"><a href=\"/wiki/Ryan_Lochte\" title=\"Ryan Lochte\">Ryan Lochte</a></span></span></span></span>\n",
      "</td>\n",
      "<td><span class=\"flagicon\"><span class=\"mw-image-border\" typeof=\"mw:File\"><span><img alt=\"\" src=\"//upload.wikimedia.org/wikipedia/en/thumb/a/a4/Flag_of_the_United_States.svg/40px-Flag_of_the_United_States.svg.png\" decoding=\"async\" width=\"23\" height=\"12\" class=\"mw-file-element\" srcset=\"//upload.wikimedia.org/wikipedia/en/thumb/a/a4/Flag_of_the_United_States.svg/60px-Flag_of_the_United_States.svg.png 2x\" data-file-width=\"1235\" data-file-height=\"650\"></span></span> </span>United States\n",
      "</td>\n",
      "<td style=\"text-align:center\">28 July 2011</td>\n",
      "<td><a href=\"/wiki/Swimming_at_the_2011_World_Aquatics_Championships_%E2%80%93_Men%27s_200_metre_individual_medley\" title=\"Swimming at the 2011 World Aquatics Championships – Men's 200 metre individual medley\">World Championships</a>\n",
      "</td>\n",
      "<td><span data-sort-value=\"China, Shanghai !\"><a href=\"/wiki/Shanghai\" title=\"Shanghai\">Shanghai</a>, China</span>\n",
      "</td>\n",
      "<td style=\"text-align:center\"><sup id=\"cite_ref-41\" class=\"reference\"><a href=\"#cite_note-41\"><span class=\"cite-bracket\">[</span>41<span class=\"cite-bracket\">]</span></a></sup><sup id=\"cite_ref-42\" class=\"reference\"><a href=\"#cite_note-42\"><span class=\"cite-bracket\">[</span>42<span class=\"cite-bracket\">]</span></a></sup><sup id=\"cite_ref-43\" class=\"reference\"><a href=\"#cite_note-43\"><span class=\"cite-bracket\">[</span>43<span class=\"cite-bracket\">]</span></a></sup>\n",
      "</td></tr>\n",
      "\n",
      "\n",
      "<tr>\n",
      "<td><span data-sort-value=\"17 !\"><a href=\"/wiki/World_record_progression_400_metres_individual_medley\" title=\"World record progression 400 metres individual medley\">400m individual medley</a></span>\n",
      "</td>\n",
      "<td style=\"text-align:right; padding-left:0.5em; padding-right:0.5em;\">4:02.50\n",
      "</td>\n",
      "<td style=\"font-size:smaller\"></td>\n",
      "<td><span class=\"nowrap\"><span data-sort-value=\"Marchand, Léon\"><span class=\"vcard\"><span class=\"fn\"><a href=\"/wiki/L%C3%A9on_Marchand\" title=\"Léon Marchand\">Léon Marchand</a></span></span></span></span>\n",
      "</td>\n",
      "<td><span class=\"flagicon\"><span class=\"mw-image-border\" typeof=\"mw:File\"><span><img alt=\"\" src=\"//upload.wikimedia.org/wikipedia/en/thumb/c/c3/Flag_of_France.svg/40px-Flag_of_France.svg.png\" decoding=\"async\" width=\"23\" height=\"15\" class=\"mw-file-element\" srcset=\"//upload.wikimedia.org/wikipedia/en/thumb/c/c3/Flag_of_France.svg/60px-Flag_of_France.svg.png 2x\" data-file-width=\"900\" data-file-height=\"600\"></span></span> </span>France\n",
      "</td>\n",
      "<td style=\"text-align:center\">23 July 2023</td>\n",
      "<td><a href=\"/wiki/Swimming_at_the_2023_World_Aquatics_Championships_%E2%80%93_Men%27s_400_metre_individual_medley\" title=\"Swimming at the 2023 World Aquatics Championships – Men's 400 metre individual medley\">World Championships</a>\n",
      "</td>\n",
      "<td><span data-sort-value=\"Japan, Fukuoka !\"><a href=\"/wiki/Fukuoka\" title=\"Fukuoka\">Fukuoka</a>, Japan</span>\n",
      "</td>\n",
      "<td style=\"text-align:center\"><sup id=\"cite_ref-44\" class=\"reference\"><a href=\"#cite_note-44\"><span class=\"cite-bracket\">[</span>44<span class=\"cite-bracket\">]</span></a></sup><sup id=\"cite_ref-45\" class=\"reference\"><a href=\"#cite_note-45\"><span class=\"cite-bracket\">[</span>45<span class=\"cite-bracket\">]</span></a></sup>\n",
      "</td></tr>\n",
      "\n",
      "\n",
      "<tr>\n",
      "<td><span data-sort-value=\"18 !\"><a href=\"/wiki/World_record_progression_4_%C3%97_100_metres_freestyle_relay\" title=\"World record progression 4 × 100 metres freestyle relay\">4 × 100 m freestyle relay</a></span>\n",
      "</td>\n",
      "<td style=\"text-align:right; padding-left:0.5em; padding-right:0.5em;\">3:08.24\n",
      "</td>\n",
      "<td style=\"font-size:smaller\">ss\n",
      "</td>\n",
      "<td class=\"nowrap\"><style data-mw-deduplicate=\"TemplateStyles:r1126788409\">.mw-parser-output .plainlist ol,.mw-parser-output .plainlist ul{line-height:inherit;list-style:none;margin:0;padding:0}.mw-parser-output .plainlist ol li,.mw-parser-output .plainlist ul li{margin-bottom:0}</style><div class=\"plainlist\"><ul><li style=\"display:flex;justify-content:space-between\"><a href=\"/wiki/Michael_Phelps\" title=\"Michael Phelps\">Michael Phelps</a><div style=\"float:right\"> (47.51)</div></li><li style=\"display:flex;justify-content:space-between\"><a href=\"/wiki/Garrett_Weber-Gale\" title=\"Garrett Weber-Gale\">Garrett Weber-Gale</a><div> (47.02)</div></li><li style=\"display:flex;justify-content:space-between\"><a href=\"/wiki/Cullen_Jones\" title=\"Cullen Jones\">Cullen Jones</a><div> (47.65)</div></li><li style=\"display:flex;justify-content:space-between\"><a href=\"/wiki/Jason_Lezak\" title=\"Jason Lezak\">Jason Lezak</a><div> (46.06)</div></li></ul></div>\n",
      "</td>\n",
      "<td><span class=\"flagicon\"><span class=\"mw-image-border\" typeof=\"mw:File\"><span><img alt=\"\" src=\"//upload.wikimedia.org/wikipedia/en/thumb/a/a4/Flag_of_the_United_States.svg/40px-Flag_of_the_United_States.svg.png\" decoding=\"async\" width=\"23\" height=\"12\" class=\"mw-file-element\" srcset=\"//upload.wikimedia.org/wikipedia/en/thumb/a/a4/Flag_of_the_United_States.svg/60px-Flag_of_the_United_States.svg.png 2x\" data-file-width=\"1235\" data-file-height=\"650\"></span></span> </span>United States\n",
      "</td>\n",
      "<td style=\"text-align:center\">11 August 2008\n",
      "</td>\n",
      "<td><a href=\"/wiki/Swimming_at_the_2008_Summer_Olympics_%E2%80%93_Men%27s_4_%C3%97_100_metre_freestyle_relay\" title=\"Swimming at the 2008 Summer Olympics – Men's 4 × 100 metre freestyle relay\">Olympic Games</a>\n",
      "</td>\n",
      "<td><span data-sort-value=\"China, Beijing !\"><a href=\"/wiki/Beijing\" title=\"Beijing\">Beijing</a>, China</span>\n",
      "</td>\n",
      "<td style=\"text-align: center;\"><sup id=\"cite_ref-46\" class=\"reference\"><a href=\"#cite_note-46\"><span class=\"cite-bracket\">[</span>46<span class=\"cite-bracket\">]</span></a></sup><sup id=\"cite_ref-47\" class=\"reference\"><a href=\"#cite_note-47\"><span class=\"cite-bracket\">[</span>47<span class=\"cite-bracket\">]</span></a></sup><sup id=\"cite_ref-48\" class=\"reference\"><a href=\"#cite_note-48\"><span class=\"cite-bracket\">[</span>48<span class=\"cite-bracket\">]</span></a></sup>\n",
      "</td></tr>\n",
      "\n",
      "\n",
      "<tr>\n",
      "<td><span data-sort-value=\"19 !\"><a href=\"/wiki/World_record_progression_4_%C3%97_200_metres_freestyle_relay\" title=\"World record progression 4 × 200 metres freestyle relay\">4 × 200 m freestyle relay</a></span>\n",
      "</td>\n",
      "<td style=\"text-align:right; padding-left:0.5em; padding-right:0.5em;\">6:58.55\n",
      "</td>\n",
      "<td style=\"font-size:smaller\">ss\n",
      "</td>\n",
      "<td class=\"nowrap\"><link rel=\"mw-deduplicated-inline-style\" href=\"mw-data:TemplateStyles:r1126788409\"><div class=\"plainlist\"><ul><li style=\"display:flex;justify-content:space-between\"><a href=\"/wiki/Michael_Phelps\" title=\"Michael Phelps\">Michael Phelps</a><div style=\"float:right\"> (1:44.49)</div></li><li style=\"display:flex;justify-content:space-between\"><a href=\"/wiki/Ricky_Berens\" title=\"Ricky Berens\">Ricky Berens</a><div> (1:44.13)</div></li><li style=\"display:flex;justify-content:space-between\"><a href=\"/wiki/David_Walters_(swimmer)\" title=\"David Walters (swimmer)\">David Walters</a><div> (1:45.47)</div></li><li style=\"display:flex;justify-content:space-between\"><a href=\"/wiki/Ryan_Lochte\" title=\"Ryan Lochte\">Ryan Lochte</a><div> (1:44.46)</div></li></ul></div>\n",
      "</td>\n",
      "<td><span class=\"flagicon\"><span class=\"mw-image-border\" typeof=\"mw:File\"><span><img alt=\"\" src=\"//upload.wikimedia.org/wikipedia/en/thumb/a/a4/Flag_of_the_United_States.svg/40px-Flag_of_the_United_States.svg.png\" decoding=\"async\" width=\"23\" height=\"12\" class=\"mw-file-element\" srcset=\"//upload.wikimedia.org/wikipedia/en/thumb/a/a4/Flag_of_the_United_States.svg/60px-Flag_of_the_United_States.svg.png 2x\" data-file-width=\"1235\" data-file-height=\"650\"></span></span> </span>United States\n",
      "</td>\n",
      "<td style=\"text-align:center\">31 July 2009\n",
      "</td>\n",
      "<td><a href=\"/wiki/Swimming_at_the_2009_World_Aquatics_Championships_%E2%80%93_Men%27s_4_%C3%97_200_metre_freestyle_relay\" title=\"Swimming at the 2009 World Aquatics Championships – Men's 4 × 200 metre freestyle relay\">World Championships</a>\n",
      "</td>\n",
      "<td><span data-sort-value=\"Italy, Rome !\"><a href=\"/wiki/Rome\" title=\"Rome\">Rome</a>, Italy</span>\n",
      "</td>\n",
      "<td style=\"text-align: center;\"><sup id=\"cite_ref-49\" class=\"reference\"><a href=\"#cite_note-49\"><span class=\"cite-bracket\">[</span>49<span class=\"cite-bracket\">]</span></a></sup><sup id=\"cite_ref-50\" class=\"reference\"><a href=\"#cite_note-50\"><span class=\"cite-bracket\">[</span>50<span class=\"cite-bracket\">]</span></a></sup>\n",
      "</td></tr>\n",
      "\n",
      "\n",
      "<tr>\n",
      "<td><span data-sort-value=\"20 !\"><a href=\"/wiki/World_record_progression_4_%C3%97_100_metres_medley_relay\" title=\"World record progression 4 × 100 metres medley relay\">4 × 100 m medley relay</a></span>\n",
      "</td>\n",
      "<td style=\"text-align:right; padding-left:0.5em; padding-right:0.5em;\">3:26.78\n",
      "</td>\n",
      "<td style=\"font-size:smaller\">\n",
      "</td>\n",
      "<td class=\"nowrap\"><link rel=\"mw-deduplicated-inline-style\" href=\"mw-data:TemplateStyles:r1126788409\"><div class=\"plainlist\"><ul><li style=\"display:flex;justify-content:space-between\"><a href=\"/wiki/Ryan_Murphy_(swimmer)\" title=\"Ryan Murphy (swimmer)\">Ryan Murphy</a><div style=\"float:right\"> (52.31)</div></li><li style=\"display:flex;justify-content:space-between\"><a href=\"/wiki/Michael_Andrew_(swimmer)\" title=\"Michael Andrew (swimmer)\">Michael Andrew</a><div> (58.49)</div></li><li style=\"display:flex;justify-content:space-between\"><a href=\"/wiki/Caeleb_Dressel\" title=\"Caeleb Dressel\">Caeleb Dressel</a><div> (49.03)</div></li><li style=\"display:flex;justify-content:space-between\"><a href=\"/wiki/Zach_Apple\" title=\"Zach Apple\">Zach Apple</a><div> (46.95)</div></li></ul></div>\n",
      "</td>\n",
      "<td><span class=\"flagicon\"><span class=\"mw-image-border\" typeof=\"mw:File\"><span><img alt=\"\" src=\"//upload.wikimedia.org/wikipedia/en/thumb/a/a4/Flag_of_the_United_States.svg/40px-Flag_of_the_United_States.svg.png\" decoding=\"async\" width=\"23\" height=\"12\" class=\"mw-file-element\" srcset=\"//upload.wikimedia.org/wikipedia/en/thumb/a/a4/Flag_of_the_United_States.svg/60px-Flag_of_the_United_States.svg.png 2x\" data-file-width=\"1235\" data-file-height=\"650\"></span></span> </span>United States\n",
      "</td>\n",
      "<td style=\"text-align:center\">1 August 2021\n",
      "</td>\n",
      "<td><a href=\"/wiki/Swimming_at_the_2020_Summer_Olympics_%E2%80%93_Men%27s_4_%C3%97_100_metre_medley_relay\" title=\"Swimming at the 2020 Summer Olympics – Men's 4 × 100 metre medley relay\">Olympic Games</a>\n",
      "</td>\n",
      "<td><span data-sort-value=\"Japan, Tokyo !\"><a href=\"/wiki/Tokyo\" title=\"Tokyo\">Tokyo</a>, Japan</span>\n",
      "</td>\n",
      "<td style=\"text-align: center;\"><sup id=\"cite_ref-51\" class=\"reference\"><a href=\"#cite_note-51\"><span class=\"cite-bracket\">[</span>51<span class=\"cite-bracket\">]</span></a></sup><sup id=\"cite_ref-52\" class=\"reference\"><a href=\"#cite_note-52\"><span class=\"cite-bracket\">[</span>52<span class=\"cite-bracket\">]</span></a></sup>\n",
      "</td></tr>\n",
      "\n",
      "\n",
      "</tbody></table>\n"
     ]
    }
   ],
   "source": [
    "table = tables[0]\n",
    "print(table)"
   ]
  },
  {
   "cell_type": "code",
   "execution_count": 72,
   "id": "cfa7a9ce",
   "metadata": {},
   "outputs": [
    {
     "name": "stdout",
     "output_type": "stream",
     "text": [
      "EVENT: 50m freestyle ||| TIME: 20.91\n",
      "EVENT: 100m freestyle ||| TIME: 46.40\n",
      "EVENT: 200m freestyle ||| TIME: 1:42.00\n",
      "EVENT: 400m freestyle ||| TIME: 3:39.96\n",
      "EVENT: 800m freestyle ||| TIME: 7:32.12\n",
      "EVENT: 1500m freestyle ||| TIME: 14:30.67\n",
      "EVENT: 50m backstroke ||| TIME: 23.55\n",
      "EVENT: 100m backstroke ||| TIME: 51.60\n",
      "EVENT: 200m backstroke ||| TIME: 1:51.92\n",
      "EVENT: 50m breaststroke ||| TIME: 25.95\n",
      "EVENT: 100m breaststroke ||| TIME: 56.88\n",
      "EVENT: 200m breaststroke ||| TIME: 2:05.48\n",
      "EVENT: 50m butterfly ||| TIME: 22.27\n",
      "EVENT: 100m butterfly ||| TIME: 49.45\n",
      "EVENT: 200m butterfly ||| TIME: 1:50.34\n",
      "EVENT: 200m individual medley ||| TIME: 1:54.00\n",
      "EVENT: 400m individual medley ||| TIME: 4:02.50\n",
      "EVENT: 4 × 100 m freestyle relay ||| TIME: 3:08.24\n",
      "EVENT: 4 × 200 m freestyle relay ||| TIME: 6:58.55\n",
      "EVENT: 4 × 100 m medley relay ||| TIME: 3:26.78\n"
     ]
    }
   ],
   "source": [
    "for row in table.find(\"tr\", mode=\"all\")[1:]:\n",
    "    columns = row.find(\"td\", mode=\"all\")\n",
    "    event = columns[0].text\n",
    "    time = columns[1].text\n",
    "    print(f'EVENT: {event} ||| TIME: {time}')"
   ]
  },
  {
   "cell_type": "code",
   "execution_count": null,
   "id": "bd33b54c",
   "metadata": {},
   "outputs": [],
   "source": [
    "RECORDS = (0, 1, 3, 4)\n",
    "COURSES =  (\"LC MEN\", \"LC WOMEN\", \"SC MEN\", \"SC WOMEN\")"
   ]
  },
  {
   "cell_type": "code",
   "execution_count": null,
   "id": "80628b92",
   "metadata": {},
   "outputs": [],
   "source": [
    "list(zip(RECORDS, COURSES))"
   ]
  },
  {
   "cell_type": "code",
   "execution_count": 64,
   "id": "fe68c6d8",
   "metadata": {},
   "outputs": [],
   "source": [
    "records = {}\n",
    "for table, course in zip(RECORDS, COURSES):\n",
    "    records[course] = {}\n",
    "    for row in tables[table].find(\"tr\", mode=\"all\")[1:]:\n",
    "        columns = row.find(\"td\", mode=\"all\")\n",
    "        event = columns[0].text\n",
    "        time = columns[1].text\n",
    "        if \"relay\" not in event:\n",
    "            records[course][event] =  time\n"
   ]
  },
  {
   "cell_type": "code",
   "execution_count": 54,
   "id": "895bd24d",
   "metadata": {},
   "outputs": [
    {
     "data": {
      "text/plain": [
       "dict_keys(['LC MEN', 'LC WOMEN', 'SC MEN', 'SC WOMEN'])"
      ]
     },
     "execution_count": 54,
     "metadata": {},
     "output_type": "execute_result"
    }
   ],
   "source": [
    "records.keys()"
   ]
  },
  {
   "cell_type": "code",
   "execution_count": 55,
   "id": "62c6b9e0",
   "metadata": {},
   "outputs": [
    {
     "data": {
      "text/plain": [
       "'54.02'"
      ]
     },
     "execution_count": 55,
     "metadata": {},
     "output_type": "execute_result"
    }
   ],
   "source": [
    "records[\"SC WOMEN\"][\"100m backstroke\"]"
   ]
  },
  {
   "cell_type": "code",
   "execution_count": 56,
   "id": "45684f1f",
   "metadata": {},
   "outputs": [],
   "source": [
    "conversions = {\n",
    "    \"Free\": \"freestyle\",\n",
    "    \"Back\": \"backstroke\",\n",
    "    \"Breast\": \"breaststroke\",\n",
    "    \"Fly\": \"butterfly\",\n",
    "    \"IM\": \"individual medley\"\n",
    "}"
   ]
  },
  {
   "cell_type": "code",
   "execution_count": 57,
   "id": "87b1e395",
   "metadata": {},
   "outputs": [
    {
     "data": {
      "text/plain": [
       "'100m butterfly'"
      ]
     },
     "execution_count": 57,
     "metadata": {},
     "output_type": "execute_result"
    }
   ],
   "source": [
    "event = \"Mike-15-100m-Fly.txt\"\n",
    "*_, distance, stroke = event.removesuffix(\".txt\").split(\"-\")\n",
    "lookup = f\"{distance} {conversions[stroke]}\"\n",
    "lookup"
   ]
  },
  {
   "cell_type": "code",
   "execution_count": 62,
   "id": "13ed5d22",
   "metadata": {},
   "outputs": [
    {
     "name": "stdout",
     "output_type": "stream",
     "text": [
      "LC MEN: 100m butterfly - 49.45\n",
      "LC WOMEN: 100m butterfly - 54.60\n",
      "SC MEN: 100m butterfly - 47.71\n",
      "SC WOMEN: 100m butterfly - 52.71\n"
     ]
    }
   ],
   "source": [
    "for record in records:\n",
    "    print(f'{record}: {lookup} - {records[record][lookup]}')"
   ]
  },
  {
   "cell_type": "code",
   "execution_count": 65,
   "id": "1ddb67de",
   "metadata": {},
   "outputs": [
    {
     "data": {
      "text/plain": [
       "{'50m freestyle': '20.91',\n",
       " '100m freestyle': '46.40',\n",
       " '200m freestyle': '1:42.00',\n",
       " '400m freestyle': '3:39.96',\n",
       " '800m freestyle': '7:32.12',\n",
       " '1500m freestyle': '14:30.67',\n",
       " '50m backstroke': '23.55',\n",
       " '100m backstroke': '51.60',\n",
       " '200m backstroke': '1:51.92',\n",
       " '50m breaststroke': '25.95',\n",
       " '100m breaststroke': '56.88',\n",
       " '200m breaststroke': '2:05.48',\n",
       " '50m butterfly': '22.27',\n",
       " '100m butterfly': '49.45',\n",
       " '200m butterfly': '1:50.34',\n",
       " '200m individual medley': '1:54.00',\n",
       " '400m individual medley': '4:02.50'}"
      ]
     },
     "execution_count": 65,
     "metadata": {},
     "output_type": "execute_result"
    }
   ],
   "source": [
    "records[\"LC MEN\"]"
   ]
  },
  {
   "cell_type": "code",
   "execution_count": 67,
   "id": "5964c650",
   "metadata": {},
   "outputs": [],
   "source": [
    "with open(\"records.json\", \"w\") as jf:\n",
    "    json.dump(records, jf)"
   ]
  },
  {
   "cell_type": "code",
   "execution_count": 75,
   "id": "22932360",
   "metadata": {},
   "outputs": [],
   "source": [
    "def event_lookup(filename: str):\n",
    "    *_, distance, stroke = filename.removesuffix('.txt').split('-')\n",
    "    conversions = {\n",
    "        \"Free\": \"freestyle\",\n",
    "        \"Back\": \"backstroke\",\n",
    "        \"Breast\": \"breaststroke\",\n",
    "        \"Fly\": \"butterfly\",\n",
    "        \"IM\": \"individual medley\"\n",
    "    }\n",
    "    \n",
    "    return f'{distance} {conversions[stroke]}'\n"
   ]
  },
  {
   "cell_type": "code",
   "execution_count": 74,
   "id": "6d2789b3",
   "metadata": {},
   "outputs": [
    {
     "data": {
      "text/plain": [
       "'100m individual medley'"
      ]
     },
     "execution_count": 74,
     "metadata": {},
     "output_type": "execute_result"
    }
   ],
   "source": [
    "event_lookup('Darius-13-100m-IM.txt')"
   ]
  },
  {
   "cell_type": "code",
   "execution_count": null,
   "id": "c2d0a63e",
   "metadata": {},
   "outputs": [],
   "source": []
  }
 ],
 "metadata": {
  "kernelspec": {
   "display_name": ".venv",
   "language": "python",
   "name": "python3"
  },
  "language_info": {
   "codemirror_mode": {
    "name": "ipython",
    "version": 3
   },
   "file_extension": ".py",
   "mimetype": "text/x-python",
   "name": "python",
   "nbconvert_exporter": "python",
   "pygments_lexer": "ipython3",
   "version": "3.13.4"
  }
 },
 "nbformat": 4,
 "nbformat_minor": 5
}
