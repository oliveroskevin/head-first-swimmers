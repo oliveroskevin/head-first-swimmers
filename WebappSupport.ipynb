{
 "cells": [
  {
   "cell_type": "code",
   "execution_count": null,
   "id": "2433b8a3",
   "metadata": {},
   "outputs": [],
   "source": [
    "import whoami"
   ]
  },
  {
   "cell_type": "code",
   "execution_count": null,
   "id": "27f62c62",
   "metadata": {},
   "outputs": [],
   "source": [
    "name=\"Katie-9-100m-Free.txt\"\n",
    "\n",
    "print(name.removesuffix('.txt').split('-', 2)[-1])"
   ]
  },
  {
   "cell_type": "code",
   "execution_count": null,
   "id": "c59939a8",
   "metadata": {},
   "outputs": [],
   "source": [
    "print(help(name.split))"
   ]
  },
  {
   "cell_type": "code",
   "execution_count": null,
   "id": "501b4cea",
   "metadata": {},
   "outputs": [],
   "source": []
  }
 ],
 "metadata": {
  "kernelspec": {
   "display_name": ".venv",
   "language": "python",
   "name": "python3"
  },
  "language_info": {
   "codemirror_mode": {
    "name": "ipython",
    "version": 3
   },
   "file_extension": ".py",
   "mimetype": "text/x-python",
   "name": "python",
   "nbconvert_exporter": "python",
   "pygments_lexer": "ipython3",
   "version": "3.13.4"
  }
 },
 "nbformat": 4,
 "nbformat_minor": 5
}
